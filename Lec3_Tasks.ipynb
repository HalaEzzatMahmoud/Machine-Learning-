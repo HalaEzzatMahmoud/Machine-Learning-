{
 "cells": [
  {
   "cell_type": "code",
   "execution_count": 1,
   "id": "14955bbf",
   "metadata": {},
   "outputs": [],
   "source": [
    "from pandas import read_csv \n",
    "import numpy as np\n",
    "from sklearn.linear_model import LinearRegression\n",
    "from matplotlib import pyplot\n",
    "from pandas.plotting import scatter_matrix\n",
    "from sklearn.model_selection import train_test_split\n",
    "from sklearn.svm import SVC\n",
    "from sklearn.metrics import classification_report,confusion_matrix\n",
    "path = r\"D:/GP/Cousres/ML/lecture1/Tasks/HW/Uni-ML00-Lec1-Practice/iris.csv\"\n",
    "names = ['sepal-length', 'sepal-width', 'petal-length', 'petal-width', 'class']\n",
    "dataset = read_csv(path, names=names )"
   ]
  },
  {
   "cell_type": "code",
   "execution_count": 2,
   "id": "1267ff71",
   "metadata": {},
   "outputs": [],
   "source": [
    "x = dataset.iloc[:,0:4].values\n",
    "y = dataset.iloc[:,4].values\n",
    "x_train,x_test,y_train,y_test = train_test_split(x,y,test_size=0.2,random_state=1)"
   ]
  },
  {
   "cell_type": "code",
   "execution_count": 3,
   "id": "a09e64ed",
   "metadata": {},
   "outputs": [
    {
     "name": "stdout",
     "output_type": "stream",
     "text": [
      "The confusion matrix \n",
      "  [[11  0  0]\n",
      " [ 0 12  1]\n",
      " [ 0  0  6]]\n",
      "The classification report \n",
      "                   precision    recall  f1-score   support\n",
      "\n",
      "    Iris-setosa       1.00      1.00      1.00        11\n",
      "Iris-versicolor       1.00      0.92      0.96        13\n",
      " Iris-virginica       0.86      1.00      0.92         6\n",
      "\n",
      "       accuracy                           0.97        30\n",
      "      macro avg       0.95      0.97      0.96        30\n",
      "   weighted avg       0.97      0.97      0.97        30\n",
      "\n"
     ]
    }
   ],
   "source": [
    "cls = SVC()\n",
    "cls.fit(x_train,y_train)\n",
    "y_pred = cls.predict(x_test)\n",
    "print(\"The confusion matrix \\n \" ,confusion_matrix(y_test,y_pred))\n",
    "print(\"The classification report \\n \",classification_report(y_test,y_pred))"
   ]
  },
  {
   "cell_type": "code",
   "execution_count": 4,
   "id": "20ceacf5",
   "metadata": {
    "scrolled": true
   },
   "outputs": [
    {
     "name": "stdout",
     "output_type": "stream",
     "text": [
      "Enter sepal-length : 5.5\n",
      "Enter sepal-width : 2.6\n",
      "Enter petal-length : 4.4\n",
      "Enter petal-width : 1.2\n",
      "The predicted class is : Iris-versicolor\n",
      "**********point1 DONE**************\n"
     ]
    }
   ],
   "source": [
    "sepal_length = input(\"Enter sepal-length : \")\n",
    "sepal_width = input(\"Enter sepal-width : \")\n",
    "petal_length = input(\"Enter petal-length : \")\n",
    "petal_width = input(\"Enter petal-width : \")\n",
    "test = cls.predict([[sepal_length,sepal_width,petal_length,petal_width]])\n",
    "print(\"The predicted class is :\", test[0])\n",
    "print(\"**********point1 DONE**************\")"
   ]
  },
  {
   "cell_type": "code",
   "execution_count": 4,
   "id": "a88cec5b",
   "metadata": {},
   "outputs": [
    {
     "name": "stdout",
     "output_type": "stream",
     "text": [
      "The correlation between sep_len & pet_ len is the highest : \n",
      " [[1.         0.87175416]\n",
      " [0.87175416 1.        ]]\n",
      "********finding sep-len using pet_len*********\n"
     ]
    }
   ],
   "source": [
    "sep_len = dataset.iloc[:,0].values\n",
    "sep_wid = dataset.iloc[:,1].values\n",
    "pet_len =dataset.iloc[:,2].values\n",
    "pet_wid =dataset.iloc[:,3].values\n",
    "corr2 = np.corrcoef(sep_len,pet_len)\n",
    "print(\"The correlation between sep_len & pet_ len is the highest : \\n\", corr2)\n",
    "print(\"********finding sep-len using pet_len*********\")"
   ]
  },
  {
   "cell_type": "code",
   "execution_count": 5,
   "id": "6bffec64",
   "metadata": {},
   "outputs": [
    {
     "data": {
      "text/html": [
       "<style>#sk-container-id-1 {color: black;}#sk-container-id-1 pre{padding: 0;}#sk-container-id-1 div.sk-toggleable {background-color: white;}#sk-container-id-1 label.sk-toggleable__label {cursor: pointer;display: block;width: 100%;margin-bottom: 0;padding: 0.3em;box-sizing: border-box;text-align: center;}#sk-container-id-1 label.sk-toggleable__label-arrow:before {content: \"▸\";float: left;margin-right: 0.25em;color: #696969;}#sk-container-id-1 label.sk-toggleable__label-arrow:hover:before {color: black;}#sk-container-id-1 div.sk-estimator:hover label.sk-toggleable__label-arrow:before {color: black;}#sk-container-id-1 div.sk-toggleable__content {max-height: 0;max-width: 0;overflow: hidden;text-align: left;background-color: #f0f8ff;}#sk-container-id-1 div.sk-toggleable__content pre {margin: 0.2em;color: black;border-radius: 0.25em;background-color: #f0f8ff;}#sk-container-id-1 input.sk-toggleable__control:checked~div.sk-toggleable__content {max-height: 200px;max-width: 100%;overflow: auto;}#sk-container-id-1 input.sk-toggleable__control:checked~label.sk-toggleable__label-arrow:before {content: \"▾\";}#sk-container-id-1 div.sk-estimator input.sk-toggleable__control:checked~label.sk-toggleable__label {background-color: #d4ebff;}#sk-container-id-1 div.sk-label input.sk-toggleable__control:checked~label.sk-toggleable__label {background-color: #d4ebff;}#sk-container-id-1 input.sk-hidden--visually {border: 0;clip: rect(1px 1px 1px 1px);clip: rect(1px, 1px, 1px, 1px);height: 1px;margin: -1px;overflow: hidden;padding: 0;position: absolute;width: 1px;}#sk-container-id-1 div.sk-estimator {font-family: monospace;background-color: #f0f8ff;border: 1px dotted black;border-radius: 0.25em;box-sizing: border-box;margin-bottom: 0.5em;}#sk-container-id-1 div.sk-estimator:hover {background-color: #d4ebff;}#sk-container-id-1 div.sk-parallel-item::after {content: \"\";width: 100%;border-bottom: 1px solid gray;flex-grow: 1;}#sk-container-id-1 div.sk-label:hover label.sk-toggleable__label {background-color: #d4ebff;}#sk-container-id-1 div.sk-serial::before {content: \"\";position: absolute;border-left: 1px solid gray;box-sizing: border-box;top: 0;bottom: 0;left: 50%;z-index: 0;}#sk-container-id-1 div.sk-serial {display: flex;flex-direction: column;align-items: center;background-color: white;padding-right: 0.2em;padding-left: 0.2em;position: relative;}#sk-container-id-1 div.sk-item {position: relative;z-index: 1;}#sk-container-id-1 div.sk-parallel {display: flex;align-items: stretch;justify-content: center;background-color: white;position: relative;}#sk-container-id-1 div.sk-item::before, #sk-container-id-1 div.sk-parallel-item::before {content: \"\";position: absolute;border-left: 1px solid gray;box-sizing: border-box;top: 0;bottom: 0;left: 50%;z-index: -1;}#sk-container-id-1 div.sk-parallel-item {display: flex;flex-direction: column;z-index: 1;position: relative;background-color: white;}#sk-container-id-1 div.sk-parallel-item:first-child::after {align-self: flex-end;width: 50%;}#sk-container-id-1 div.sk-parallel-item:last-child::after {align-self: flex-start;width: 50%;}#sk-container-id-1 div.sk-parallel-item:only-child::after {width: 0;}#sk-container-id-1 div.sk-dashed-wrapped {border: 1px dashed gray;margin: 0 0.4em 0.5em 0.4em;box-sizing: border-box;padding-bottom: 0.4em;background-color: white;}#sk-container-id-1 div.sk-label label {font-family: monospace;font-weight: bold;display: inline-block;line-height: 1.2em;}#sk-container-id-1 div.sk-label-container {text-align: center;}#sk-container-id-1 div.sk-container {/* jupyter's `normalize.less` sets `[hidden] { display: none; }` but bootstrap.min.css set `[hidden] { display: none !important; }` so we also need the `!important` here to be able to override the default hidden behavior on the sphinx rendered scikit-learn.org. See: https://github.com/scikit-learn/scikit-learn/issues/21755 */display: inline-block !important;position: relative;}#sk-container-id-1 div.sk-text-repr-fallback {display: none;}</style><div id=\"sk-container-id-1\" class=\"sk-top-container\"><div class=\"sk-text-repr-fallback\"><pre>LinearRegression()</pre><b>In a Jupyter environment, please rerun this cell to show the HTML representation or trust the notebook. <br />On GitHub, the HTML representation is unable to render, please try loading this page with nbviewer.org.</b></div><div class=\"sk-container\" hidden><div class=\"sk-item\"><div class=\"sk-estimator sk-toggleable\"><input class=\"sk-toggleable__control sk-hidden--visually\" id=\"sk-estimator-id-1\" type=\"checkbox\" checked><label for=\"sk-estimator-id-1\" class=\"sk-toggleable__label sk-toggleable__label-arrow\">LinearRegression</label><div class=\"sk-toggleable__content\"><pre>LinearRegression()</pre></div></div></div></div></div>"
      ],
      "text/plain": [
       "LinearRegression()"
      ]
     },
     "execution_count": 5,
     "metadata": {},
     "output_type": "execute_result"
    }
   ],
   "source": [
    "x_train,x_test,y_train,y_test = train_test_split(pet_len,sep_len,test_size = 0.2,random_state = 1)\n",
    "lin_gre = LinearRegression()\n",
    "lin_gre.fit(x_train.reshape(-1, 1),y_train.reshape(-1, 1))"
   ]
  },
  {
   "cell_type": "code",
   "execution_count": 8,
   "id": "ae91f7f4",
   "metadata": {},
   "outputs": [
    {
     "name": "stdout",
     "output_type": "stream",
     "text": [
      "Enter sepal-width : 2.6\n",
      "Enter petal-length : 4.\n",
      "Enter petal-width : 1.2\n",
      "The predicted class :  Iris-versicolor \n",
      " The predicted sep_len : 5.916875798660784\n",
      "**********point2 DONE**************\n"
     ]
    }
   ],
   "source": [
    "sepal_width = input(\"Enter sepal-width : \")\n",
    "petal_length = float(input(\"Enter petal-length : \"))\n",
    "petal_width = input(\"Enter petal-width : \")\n",
    "length = lin_gre.predict(np.array(petal_length).reshape(-1, 1))\n",
    "test1 = cls.predict([[length[0,0],sepal_width,petal_length,petal_width]])\n",
    "print(\"The predicted class : \" ,test1[0],\"\\n The predicted sep_len :\" ,length[0,0])\n",
    "print(\"**********point2 DONE**************\")"
   ]
  },
  {
   "cell_type": "code",
   "execution_count": 11,
   "id": "98d9cd91",
   "metadata": {},
   "outputs": [
    {
     "name": "stdout",
     "output_type": "stream",
     "text": [
      "Enter 1. if sep_len is missing\n",
      "Enter 2. if sep_wid is missing\n",
      "Enter 3. if pet_len is missing\n",
      "Enter 4. if pet_wid is missing\n",
      "Enter 0. to exit\n",
      "4\n",
      "Enter sep_len : 5.1\n",
      "Enter sep_wid : 3.5\n",
      "Enter pet_len : 1.4\n",
      "The predicted class :  Iris-setosa \n",
      " The predicted sep_len : 0.19922370674169565\n",
      "Enter 1. if sep_len is missing\n",
      "Enter 2. if sep_wid is missing\n",
      "Enter 3. if pet_len is missing\n",
      "Enter 4. if pet_wid is missing\n",
      "Enter 0. to exit\n",
      "3\n",
      "Enter sep_len : 5.1\n",
      "Enter sep_wid : 3.5\n",
      "Enter pet_wid : 0.2\n",
      "The predicted class :  Iris-setosa \n",
      " The predicted sep_len : 1.5794543030291814\n",
      "Enter 1. if sep_len is missing\n",
      "Enter 2. if sep_wid is missing\n",
      "Enter 3. if pet_len is missing\n",
      "Enter 4. if pet_wid is missing\n",
      "Enter 0. to exit\n",
      "2\n",
      "Enter sep_len : 5.1\n",
      "Enter pet_len : 1.4\n",
      "Enter pet_wid : 0.2\n",
      "The predicted class :  Iris-setosa \n",
      " The predicted sep_len : 3.0590994098662607\n",
      "Enter 1. if sep_len is missing\n",
      "Enter 2. if sep_wid is missing\n",
      "Enter 3. if pet_len is missing\n",
      "Enter 4. if pet_wid is missing\n",
      "Enter 0. to exit\n",
      "1\n",
      "Enter sep_wid : 3.5\n",
      "Enter pet_len : 1.4\n",
      "Enter pet_wid : 0.2\n",
      "The predicted class :  Iris-setosa \n",
      " The predicted sep_len : 5.722808034923243\n",
      "Enter 1. if sep_len is missing\n",
      "Enter 2. if sep_wid is missing\n",
      "Enter 3. if pet_len is missing\n",
      "Enter 4. if pet_wid is missing\n",
      "Enter 0. to exit\n",
      "0\n"
     ]
    }
   ],
   "source": [
    "def predict(input_1, input_2, input_3, start, end):\n",
    "    col_to_predict = dataset.values[:, end]\n",
    "    predicted_col = dataset.values[:, start]\n",
    "    col_to_predict_train, col_to_predict_test, predicted_col_train, predicted_col_test = train_test_split(col_to_predict, predicted_col, test_size=0.2, random_state=1)\n",
    "    lin_gre.fit(col_to_predict_train.reshape(-1, 1),predicted_col_train.reshape(-1, 1))\n",
    "    if start == 0:\n",
    "        Value4 = lin_gre.predict(np.array(input_1).reshape(-1, 1))\n",
    "        test1 = cls.predict([[Value4[0,0], input_1, input_2, input_3]])\n",
    "    elif start == 1:    \n",
    "        Value4 = lin_gre.predict(np.array(input_1).reshape(-1, 1))\n",
    "        test1 = cls.predict([[input_1,Value4[0,0],input_2,input_3]])\n",
    "    elif start == 2:\n",
    "        Value4 = lin_gre.predict(np.array(input_3).reshape(-1, 1))\n",
    "        test1 = cls.predict([[input_1,input_2,Value4[0,0],input_3]])\n",
    "    elif start == 3:\n",
    "        Value4 = lin_gre.predict(np.array(input_3).reshape(-1, 1))\n",
    "        test1 = cls.predict([[input_1,input_2,input_3,Value4[0,0]]])   \n",
    "        \n",
    "    print(\"The predicted class : \" ,test1[0],\"\\n The predicted sep_len :\" ,Value4[0,0])  \n",
    "    \n",
    "    \n",
    "while True:\n",
    "    my_input = input(\n",
    "        'Enter 1. if sep_len is missing\\nEnter 2. if sep_wid is missing\\n'\n",
    "        'Enter 3. if pet_len is missing\\nEnter 4. if pet_wid is missing\\n'\n",
    "        'Enter 0. to exit\\n')    \n",
    "    if my_input == '0':\n",
    "        break\n",
    "    elif my_input == '1':\n",
    "        sep_wid = float(input(\"Enter sep_wid : \"))\n",
    "        pet_len = input(\"Enter pet_len : \")\n",
    "        pet_wid = input(\"Enter pet_wid : \")\n",
    "        predict(sep_wid, pet_len, pet_wid, 0, 1)\n",
    "    elif my_input == '2':\n",
    "        sep_len =  float(input(\"Enter sep_len : \"))\n",
    "        pet_len =  input(\"Enter pet_len : \")\n",
    "        pet_wid =  input(\"Enter pet_wid : \")\n",
    "        predict(sep_len, pet_len, pet_wid, 1, 0)\n",
    "    elif my_input == '3':\n",
    "        sep_len =  input(\"Enter sep_len : \")\n",
    "        sep_wid =  input(\"Enter sep_wid : \")\n",
    "        pet_wid =  float(input(\"Enter pet_wid : \"))\n",
    "        predict(sep_len, sep_wid, pet_wid, 2, 3)\n",
    "    elif my_input == '4':\n",
    "        sep_len =  input(\"Enter sep_len : \")\n",
    "        sep_wid =  input(\"Enter sep_wid : \")\n",
    "        pet_len =  float(input(\"Enter pet_len : \"))\n",
    "        predict(sep_len, sep_wid, pet_len, 3, 2)    \n",
    "    else:\n",
    "        print('Invalid input!!!!!!!!!!!!!!!')\n",
    "     "
   ]
  }
 ],
 "metadata": {
  "kernelspec": {
   "display_name": "Python 3 (ipykernel)",
   "language": "python",
   "name": "python3"
  },
  "language_info": {
   "codemirror_mode": {
    "name": "ipython",
    "version": 3
   },
   "file_extension": ".py",
   "mimetype": "text/x-python",
   "name": "python",
   "nbconvert_exporter": "python",
   "pygments_lexer": "ipython3",
   "version": "3.11.4"
  }
 },
 "nbformat": 4,
 "nbformat_minor": 5
}
